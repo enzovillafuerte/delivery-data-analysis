{
 "cells": [
  {
   "cell_type": "code",
   "execution_count": 26,
   "id": "159e9bf0-2d7e-44ce-953a-e4c56a5f2db6",
   "metadata": {},
   "outputs": [],
   "source": [
    "import pandas as pd\n",
    "import numpy as np\n",
    "import matplotlib.pyplot as plt\n",
    "import seaborn as sns\n",
    "import sqlite3\n",
    "\n",
    "pd.set_option('display.max_columns', None)"
   ]
  },
  {
   "cell_type": "markdown",
   "id": "8c11aead-34e1-48fb-b890-c44b5cbfbe6d",
   "metadata": {},
   "source": [
    "# Delivery Times - Data Analysis Project"
   ]
  },
  {
   "cell_type": "code",
   "execution_count": null,
   "id": "e3345942-ecbe-4334-9da6-2eb497b8eda5",
   "metadata": {},
   "outputs": [],
   "source": [
    "\n"
   ]
  },
  {
   "cell_type": "code",
   "execution_count": 30,
   "id": "b043694b-8b12-41a6-b5f8-0fcd37abe7a0",
   "metadata": {},
   "outputs": [
    {
     "name": "stdout",
     "output_type": "stream",
     "text": [
      "Index(['ID', 'Delivery_person_ID', 'Delivery_person_Age',\n",
      "       'Delivery_person_Ratings', 'Restaurant_latitude',\n",
      "       'Restaurant_longitude', 'Delivery_location_latitude',\n",
      "       'Delivery_location_longitude', 'Order_Date', 'Time_Orderd',\n",
      "       'Time_Order_picked', 'Weatherconditions', 'Road_traffic_density',\n",
      "       'Vehicle_condition', 'Type_of_order', 'Type_of_vehicle',\n",
      "       'multiple_deliveries', 'Festival', 'City', 'Time_taken(min)',\n",
      "       'time (minutes)', 'distance (km)'],\n",
      "      dtype='object')\n"
     ]
    },
    {
     "data": {
      "text/html": [
       "<div>\n",
       "<style scoped>\n",
       "    .dataframe tbody tr th:only-of-type {\n",
       "        vertical-align: middle;\n",
       "    }\n",
       "\n",
       "    .dataframe tbody tr th {\n",
       "        vertical-align: top;\n",
       "    }\n",
       "\n",
       "    .dataframe thead th {\n",
       "        text-align: right;\n",
       "    }\n",
       "</style>\n",
       "<table border=\"1\" class=\"dataframe\">\n",
       "  <thead>\n",
       "    <tr style=\"text-align: right;\">\n",
       "      <th></th>\n",
       "      <th>ID</th>\n",
       "      <th>Delivery_person_ID</th>\n",
       "      <th>Delivery_person_Age</th>\n",
       "      <th>Delivery_person_Ratings</th>\n",
       "      <th>Restaurant_latitude</th>\n",
       "      <th>Restaurant_longitude</th>\n",
       "      <th>Delivery_location_latitude</th>\n",
       "      <th>Delivery_location_longitude</th>\n",
       "      <th>Order_Date</th>\n",
       "      <th>Time_Orderd</th>\n",
       "      <th>Time_Order_picked</th>\n",
       "      <th>Weatherconditions</th>\n",
       "      <th>Road_traffic_density</th>\n",
       "      <th>Vehicle_condition</th>\n",
       "      <th>Type_of_order</th>\n",
       "      <th>Type_of_vehicle</th>\n",
       "      <th>multiple_deliveries</th>\n",
       "      <th>Festival</th>\n",
       "      <th>City</th>\n",
       "      <th>Time_taken(min)</th>\n",
       "      <th>time (minutes)</th>\n",
       "      <th>distance (km)</th>\n",
       "    </tr>\n",
       "  </thead>\n",
       "  <tbody>\n",
       "    <tr>\n",
       "      <th>0</th>\n",
       "      <td>0x4607</td>\n",
       "      <td>INDORES13DEL02</td>\n",
       "      <td>37</td>\n",
       "      <td>4.9</td>\n",
       "      <td>22.745049</td>\n",
       "      <td>75.892471</td>\n",
       "      <td>22.765049</td>\n",
       "      <td>75.912471</td>\n",
       "      <td>19-03-2022</td>\n",
       "      <td>11:30:00</td>\n",
       "      <td>11:45:00</td>\n",
       "      <td>conditions Sunny</td>\n",
       "      <td>High</td>\n",
       "      <td>2</td>\n",
       "      <td>Snack</td>\n",
       "      <td>motorcycle</td>\n",
       "      <td>0</td>\n",
       "      <td>No</td>\n",
       "      <td>Urban</td>\n",
       "      <td>(min) 24</td>\n",
       "      <td>24</td>\n",
       "      <td>3.025149</td>\n",
       "    </tr>\n",
       "    <tr>\n",
       "      <th>1</th>\n",
       "      <td>0xb379</td>\n",
       "      <td>BANGRES18DEL02</td>\n",
       "      <td>34</td>\n",
       "      <td>4.5</td>\n",
       "      <td>12.913041</td>\n",
       "      <td>77.683237</td>\n",
       "      <td>13.043041</td>\n",
       "      <td>77.813237</td>\n",
       "      <td>25-03-2022</td>\n",
       "      <td>19:45:00</td>\n",
       "      <td>19:50:00</td>\n",
       "      <td>conditions Stormy</td>\n",
       "      <td>Jam</td>\n",
       "      <td>2</td>\n",
       "      <td>Snack</td>\n",
       "      <td>scooter</td>\n",
       "      <td>1</td>\n",
       "      <td>No</td>\n",
       "      <td>Metropolitian</td>\n",
       "      <td>(min) 33</td>\n",
       "      <td>33</td>\n",
       "      <td>20.183530</td>\n",
       "    </tr>\n",
       "    <tr>\n",
       "      <th>2</th>\n",
       "      <td>0x5d6d</td>\n",
       "      <td>BANGRES19DEL01</td>\n",
       "      <td>23</td>\n",
       "      <td>4.4</td>\n",
       "      <td>12.914264</td>\n",
       "      <td>77.678400</td>\n",
       "      <td>12.924264</td>\n",
       "      <td>77.688400</td>\n",
       "      <td>19-03-2022</td>\n",
       "      <td>08:30:00</td>\n",
       "      <td>08:45:00</td>\n",
       "      <td>conditions Sandstorms</td>\n",
       "      <td>Low</td>\n",
       "      <td>0</td>\n",
       "      <td>Drinks</td>\n",
       "      <td>motorcycle</td>\n",
       "      <td>1</td>\n",
       "      <td>No</td>\n",
       "      <td>Urban</td>\n",
       "      <td>(min) 26</td>\n",
       "      <td>26</td>\n",
       "      <td>1.552758</td>\n",
       "    </tr>\n",
       "    <tr>\n",
       "      <th>3</th>\n",
       "      <td>0x7a6a</td>\n",
       "      <td>COIMBRES13DEL02</td>\n",
       "      <td>38</td>\n",
       "      <td>4.7</td>\n",
       "      <td>11.003669</td>\n",
       "      <td>76.976494</td>\n",
       "      <td>11.053669</td>\n",
       "      <td>77.026494</td>\n",
       "      <td>05-04-2022</td>\n",
       "      <td>18:00:00</td>\n",
       "      <td>18:10:00</td>\n",
       "      <td>conditions Sunny</td>\n",
       "      <td>Medium</td>\n",
       "      <td>0</td>\n",
       "      <td>Buffet</td>\n",
       "      <td>motorcycle</td>\n",
       "      <td>1</td>\n",
       "      <td>No</td>\n",
       "      <td>Metropolitian</td>\n",
       "      <td>(min) 21</td>\n",
       "      <td>21</td>\n",
       "      <td>7.790401</td>\n",
       "    </tr>\n",
       "    <tr>\n",
       "      <th>4</th>\n",
       "      <td>0x70a2</td>\n",
       "      <td>CHENRES12DEL01</td>\n",
       "      <td>32</td>\n",
       "      <td>4.6</td>\n",
       "      <td>12.972793</td>\n",
       "      <td>80.249982</td>\n",
       "      <td>13.012793</td>\n",
       "      <td>80.289982</td>\n",
       "      <td>26-03-2022</td>\n",
       "      <td>13:30:00</td>\n",
       "      <td>13:45:00</td>\n",
       "      <td>conditions Cloudy</td>\n",
       "      <td>High</td>\n",
       "      <td>1</td>\n",
       "      <td>Snack</td>\n",
       "      <td>scooter</td>\n",
       "      <td>1</td>\n",
       "      <td>No</td>\n",
       "      <td>Metropolitian</td>\n",
       "      <td>(min) 30</td>\n",
       "      <td>30</td>\n",
       "      <td>6.210138</td>\n",
       "    </tr>\n",
       "  </tbody>\n",
       "</table>\n",
       "</div>"
      ],
      "text/plain": [
       "        ID Delivery_person_ID Delivery_person_Age Delivery_person_Ratings  \\\n",
       "0  0x4607     INDORES13DEL02                   37                     4.9   \n",
       "1  0xb379     BANGRES18DEL02                   34                     4.5   \n",
       "2  0x5d6d     BANGRES19DEL01                   23                     4.4   \n",
       "3  0x7a6a    COIMBRES13DEL02                   38                     4.7   \n",
       "4  0x70a2     CHENRES12DEL01                   32                     4.6   \n",
       "\n",
       "   Restaurant_latitude  Restaurant_longitude  Delivery_location_latitude  \\\n",
       "0            22.745049             75.892471                   22.765049   \n",
       "1            12.913041             77.683237                   13.043041   \n",
       "2            12.914264             77.678400                   12.924264   \n",
       "3            11.003669             76.976494                   11.053669   \n",
       "4            12.972793             80.249982                   13.012793   \n",
       "\n",
       "   Delivery_location_longitude  Order_Date Time_Orderd Time_Order_picked  \\\n",
       "0                    75.912471  19-03-2022    11:30:00          11:45:00   \n",
       "1                    77.813237  25-03-2022    19:45:00          19:50:00   \n",
       "2                    77.688400  19-03-2022    08:30:00          08:45:00   \n",
       "3                    77.026494  05-04-2022    18:00:00          18:10:00   \n",
       "4                    80.289982  26-03-2022    13:30:00          13:45:00   \n",
       "\n",
       "       Weatherconditions Road_traffic_density  Vehicle_condition  \\\n",
       "0       conditions Sunny                High                   2   \n",
       "1      conditions Stormy                 Jam                   2   \n",
       "2  conditions Sandstorms                 Low                   0   \n",
       "3       conditions Sunny              Medium                   0   \n",
       "4      conditions Cloudy                High                   1   \n",
       "\n",
       "  Type_of_order Type_of_vehicle multiple_deliveries Festival            City  \\\n",
       "0        Snack      motorcycle                    0      No           Urban    \n",
       "1        Snack         scooter                    1      No   Metropolitian    \n",
       "2       Drinks      motorcycle                    1      No           Urban    \n",
       "3       Buffet      motorcycle                    1      No   Metropolitian    \n",
       "4        Snack         scooter                    1      No   Metropolitian    \n",
       "\n",
       "  Time_taken(min)  time (minutes)  distance (km)  \n",
       "0        (min) 24              24       3.025149  \n",
       "1        (min) 33              33      20.183530  \n",
       "2        (min) 26              26       1.552758  \n",
       "3        (min) 21              21       7.790401  \n",
       "4        (min) 30              30       6.210138  "
      ]
     },
     "execution_count": 30,
     "metadata": {},
     "output_type": "execute_result"
    }
   ],
   "source": [
    "df = pd.read_csv('final_dataset.csv')\n",
    "\n",
    "# SQL Connection\n",
    "# Connecting to in-memory SQLite database\n",
    "conn = sqlite3.connect(\":memory:\")\n",
    "\n",
    "df.to_sql(\"Deliveries\", conn, index=False, if_exists=\"replace\")\n",
    "\n",
    "print(df.columns)\n",
    "df.head()"
   ]
  },
  {
   "cell_type": "code",
   "execution_count": 17,
   "id": "037ddcb0-2dd3-4952-8988-3dd6b9c6923e",
   "metadata": {},
   "outputs": [
    {
     "data": {
      "text/html": [
       "<div>\n",
       "<style scoped>\n",
       "    .dataframe tbody tr th:only-of-type {\n",
       "        vertical-align: middle;\n",
       "    }\n",
       "\n",
       "    .dataframe tbody tr th {\n",
       "        vertical-align: top;\n",
       "    }\n",
       "\n",
       "    .dataframe thead th {\n",
       "        text-align: right;\n",
       "    }\n",
       "</style>\n",
       "<table border=\"1\" class=\"dataframe\">\n",
       "  <thead>\n",
       "    <tr style=\"text-align: right;\">\n",
       "      <th></th>\n",
       "      <th>Restaurant_latitude</th>\n",
       "      <th>Restaurant_longitude</th>\n",
       "      <th>Delivery_location_latitude</th>\n",
       "      <th>Delivery_location_longitude</th>\n",
       "      <th>Vehicle_condition</th>\n",
       "      <th>time (minutes)</th>\n",
       "      <th>distance (km)</th>\n",
       "    </tr>\n",
       "  </thead>\n",
       "  <tbody>\n",
       "    <tr>\n",
       "      <th>count</th>\n",
       "      <td>45593.000000</td>\n",
       "      <td>45593.000000</td>\n",
       "      <td>45593.000000</td>\n",
       "      <td>45593.000000</td>\n",
       "      <td>45593.000000</td>\n",
       "      <td>45593.000000</td>\n",
       "      <td>45593.000000</td>\n",
       "    </tr>\n",
       "    <tr>\n",
       "      <th>mean</th>\n",
       "      <td>17.017729</td>\n",
       "      <td>70.231332</td>\n",
       "      <td>17.465186</td>\n",
       "      <td>70.845702</td>\n",
       "      <td>1.023359</td>\n",
       "      <td>26.294607</td>\n",
       "      <td>99.303911</td>\n",
       "    </tr>\n",
       "    <tr>\n",
       "      <th>std</th>\n",
       "      <td>8.185109</td>\n",
       "      <td>22.883647</td>\n",
       "      <td>7.335122</td>\n",
       "      <td>21.118812</td>\n",
       "      <td>0.839065</td>\n",
       "      <td>9.383806</td>\n",
       "      <td>1099.731281</td>\n",
       "    </tr>\n",
       "    <tr>\n",
       "      <th>min</th>\n",
       "      <td>-30.905562</td>\n",
       "      <td>-88.366217</td>\n",
       "      <td>0.010000</td>\n",
       "      <td>0.010000</td>\n",
       "      <td>0.000000</td>\n",
       "      <td>10.000000</td>\n",
       "      <td>1.465067</td>\n",
       "    </tr>\n",
       "    <tr>\n",
       "      <th>25%</th>\n",
       "      <td>12.933284</td>\n",
       "      <td>73.170000</td>\n",
       "      <td>12.988453</td>\n",
       "      <td>73.280000</td>\n",
       "      <td>0.000000</td>\n",
       "      <td>19.000000</td>\n",
       "      <td>4.663493</td>\n",
       "    </tr>\n",
       "    <tr>\n",
       "      <th>50%</th>\n",
       "      <td>18.546947</td>\n",
       "      <td>75.898497</td>\n",
       "      <td>18.633934</td>\n",
       "      <td>76.002574</td>\n",
       "      <td>1.000000</td>\n",
       "      <td>26.000000</td>\n",
       "      <td>9.264281</td>\n",
       "    </tr>\n",
       "    <tr>\n",
       "      <th>75%</th>\n",
       "      <td>22.728163</td>\n",
       "      <td>78.044095</td>\n",
       "      <td>22.785049</td>\n",
       "      <td>78.107044</td>\n",
       "      <td>2.000000</td>\n",
       "      <td>32.000000</td>\n",
       "      <td>13.763977</td>\n",
       "    </tr>\n",
       "    <tr>\n",
       "      <th>max</th>\n",
       "      <td>30.914057</td>\n",
       "      <td>88.433452</td>\n",
       "      <td>31.054057</td>\n",
       "      <td>88.563452</td>\n",
       "      <td>3.000000</td>\n",
       "      <td>54.000000</td>\n",
       "      <td>19692.674606</td>\n",
       "    </tr>\n",
       "  </tbody>\n",
       "</table>\n",
       "</div>"
      ],
      "text/plain": [
       "       Restaurant_latitude  Restaurant_longitude  Delivery_location_latitude  \\\n",
       "count         45593.000000          45593.000000                45593.000000   \n",
       "mean             17.017729             70.231332                   17.465186   \n",
       "std               8.185109             22.883647                    7.335122   \n",
       "min             -30.905562            -88.366217                    0.010000   \n",
       "25%              12.933284             73.170000                   12.988453   \n",
       "50%              18.546947             75.898497                   18.633934   \n",
       "75%              22.728163             78.044095                   22.785049   \n",
       "max              30.914057             88.433452                   31.054057   \n",
       "\n",
       "       Delivery_location_longitude  Vehicle_condition  time (minutes)  \\\n",
       "count                 45593.000000       45593.000000    45593.000000   \n",
       "mean                     70.845702           1.023359       26.294607   \n",
       "std                      21.118812           0.839065        9.383806   \n",
       "min                       0.010000           0.000000       10.000000   \n",
       "25%                      73.280000           0.000000       19.000000   \n",
       "50%                      76.002574           1.000000       26.000000   \n",
       "75%                      78.107044           2.000000       32.000000   \n",
       "max                      88.563452           3.000000       54.000000   \n",
       "\n",
       "       distance (km)  \n",
       "count   45593.000000  \n",
       "mean       99.303911  \n",
       "std      1099.731281  \n",
       "min         1.465067  \n",
       "25%         4.663493  \n",
       "50%         9.264281  \n",
       "75%        13.763977  \n",
       "max     19692.674606  "
      ]
     },
     "execution_count": 17,
     "metadata": {},
     "output_type": "execute_result"
    }
   ],
   "source": [
    "df.describe()"
   ]
  },
  {
   "cell_type": "markdown",
   "id": "1a600c91-a92c-4b90-994f-27d0424c4874",
   "metadata": {},
   "source": [
    "### What is the average delivery time when weather conditions are unfavorable (e.g., Stormy, Fog, Sandstorms, Windy)?"
   ]
  },
  {
   "cell_type": "code",
   "execution_count": 25,
   "id": "791a5100-d2e1-42bc-ab3f-e8a71c82f254",
   "metadata": {},
   "outputs": [
    {
     "name": "stdout",
     "output_type": "stream",
     "text": [
      "When conditions are unfavorable, the average delivery time is: 25.87 minutes. \n",
      "\n"
     ]
    },
    {
     "data": {
      "text/html": [
       "<div>\n",
       "<style scoped>\n",
       "    .dataframe tbody tr th:only-of-type {\n",
       "        vertical-align: middle;\n",
       "    }\n",
       "\n",
       "    .dataframe tbody tr th {\n",
       "        vertical-align: top;\n",
       "    }\n",
       "\n",
       "    .dataframe thead th {\n",
       "        text-align: right;\n",
       "    }\n",
       "</style>\n",
       "<table border=\"1\" class=\"dataframe\">\n",
       "  <thead>\n",
       "    <tr style=\"text-align: right;\">\n",
       "      <th></th>\n",
       "      <th>Average Delivery Time</th>\n",
       "      <th>Count of Orders</th>\n",
       "    </tr>\n",
       "    <tr>\n",
       "      <th>Weatherconditions</th>\n",
       "      <th></th>\n",
       "      <th></th>\n",
       "    </tr>\n",
       "  </thead>\n",
       "  <tbody>\n",
       "    <tr>\n",
       "      <th>conditions Sandstorms</th>\n",
       "      <td>25.875517</td>\n",
       "      <td>7495</td>\n",
       "    </tr>\n",
       "    <tr>\n",
       "      <th>conditions Stormy</th>\n",
       "      <td>25.870815</td>\n",
       "      <td>7586</td>\n",
       "    </tr>\n",
       "  </tbody>\n",
       "</table>\n",
       "</div>"
      ],
      "text/plain": [
       "                       Average Delivery Time  Count of Orders\n",
       "Weatherconditions                                            \n",
       "conditions Sandstorms              25.875517             7495\n",
       "conditions Stormy                  25.870815             7586"
      ]
     },
     "execution_count": 25,
     "metadata": {},
     "output_type": "execute_result"
    }
   ],
   "source": [
    "# Visualize all values for weather conditions\n",
    "df['Weatherconditions'].unique()\n",
    "\n",
    "# Define what categorizes as 'unfavorable'\n",
    "unfavorable = ['conditions Stormy', 'conditions Sandstorms']\n",
    "\n",
    "# filter the new_dataframe\n",
    "unf_weather = df[df['Weatherconditions'].isin(unfavorable)]\n",
    "\n",
    "# Print overall average when conditions are unfavorable\n",
    "print(f\"When conditions are unfavorable, the average delivery time is: {round(unf_weather['time (minutes)'].mean(),2)} minutes. \\n\")\n",
    "\n",
    "# Displaying average deliveries per group\n",
    "unf_weather_final = unf_weather.groupby('Weatherconditions')[['time (minutes)']].mean()\n",
    "\n",
    "unf_weather_final2 = unf_weather.groupby('Weatherconditions').agg({'time (minutes)': 'mean', 'ID': 'count'})\n",
    "\n",
    "# change name of columns after transformations\n",
    "unf_weather_final2.rename(columns={'time (minutes)': 'Average Delivery Time', 'ID':'Count of Orders'}, inplace=True)\n",
    "\n",
    "\n",
    "unf_weather_final2"
   ]
  },
  {
   "cell_type": "code",
   "execution_count": 34,
   "id": "6b196824-e391-4d0d-a7b7-34d2da01d5ab",
   "metadata": {},
   "outputs": [
    {
     "name": "stdout",
     "output_type": "stream",
     "text": [
      "['ID', 'Delivery_person_ID', 'Delivery_person_Age', 'Delivery_person_Ratings', 'Restaurant_latitude', 'Restaurant_longitude', 'Delivery_location_latitude', 'Delivery_location_longitude', 'Order_Date', 'Time_Orderd', 'Time_Order_picked', 'Weatherconditions', 'Road_traffic_density', 'Vehicle_condition', 'Type_of_order', 'Type_of_vehicle', 'multiple_deliveries', 'Festival', 'City', 'Time_taken(min)', 'time (minutes)', 'distance (km)']\n"
     ]
    }
   ],
   "source": [
    "# Get column names of the table\n",
    "cursor = conn.cursor()\n",
    "cursor.execute(\"PRAGMA table_info(Deliveries)\")\n",
    "columns = [col[1] for col in cursor.fetchall()]\n",
    "print(columns)"
   ]
  },
  {
   "cell_type": "code",
   "execution_count": 36,
   "id": "a8188f20-1c3a-4d0f-8c9e-9262b81a8fdc",
   "metadata": {},
   "outputs": [
    {
     "name": "stdout",
     "output_type": "stream",
     "text": [
      "       Weatherconditions  avg\n",
      "0      conditions Cloudy  0.0\n",
      "1         conditions Fog  0.0\n",
      "2         conditions NaN  0.0\n",
      "3  conditions Sandstorms  0.0\n",
      "4      conditions Stormy  0.0\n"
     ]
    }
   ],
   "source": [
    "############ SQL ############\n",
    "\n",
    "query = \" SELECT Weatherconditions, AVG('time (minutes)') AS avg FROM Deliveries GROUP BY Weatherconditions\"\n",
    "\n",
    "result = pd.read_sql(query, conn)\n",
    "\n",
    "print(result.head())\n",
    "\n",
    "# conn.close()"
   ]
  },
  {
   "cell_type": "markdown",
   "id": "e56d8886-2ca2-4754-9357-852e00e1a9b2",
   "metadata": {},
   "source": [
    "### Which type of vehicle has the highest average delivery time?"
   ]
  },
  {
   "cell_type": "code",
   "execution_count": 43,
   "id": "61ef7cfc-b580-4f69-9bb3-02838a51608e",
   "metadata": {},
   "outputs": [
    {
     "data": {
      "text/html": [
       "<div>\n",
       "<style scoped>\n",
       "    .dataframe tbody tr th:only-of-type {\n",
       "        vertical-align: middle;\n",
       "    }\n",
       "\n",
       "    .dataframe tbody tr th {\n",
       "        vertical-align: top;\n",
       "    }\n",
       "\n",
       "    .dataframe thead th {\n",
       "        text-align: right;\n",
       "    }\n",
       "</style>\n",
       "<table border=\"1\" class=\"dataframe\">\n",
       "  <thead>\n",
       "    <tr style=\"text-align: right;\">\n",
       "      <th></th>\n",
       "      <th>time (minutes)</th>\n",
       "    </tr>\n",
       "    <tr>\n",
       "      <th>Type_of_vehicle</th>\n",
       "      <th></th>\n",
       "    </tr>\n",
       "  </thead>\n",
       "  <tbody>\n",
       "    <tr>\n",
       "      <th>motorcycle</th>\n",
       "      <td>27.605674</td>\n",
       "    </tr>\n",
       "    <tr>\n",
       "      <th>bicycle</th>\n",
       "      <td>26.426471</td>\n",
       "    </tr>\n",
       "    <tr>\n",
       "      <th>scooter</th>\n",
       "      <td>24.480754</td>\n",
       "    </tr>\n",
       "    <tr>\n",
       "      <th>electric_scooter</th>\n",
       "      <td>24.470110</td>\n",
       "    </tr>\n",
       "  </tbody>\n",
       "</table>\n",
       "</div>"
      ],
      "text/plain": [
       "                   time (minutes)\n",
       "Type_of_vehicle                  \n",
       "motorcycle              27.605674\n",
       "bicycle                 26.426471\n",
       "scooter                 24.480754\n",
       "electric_scooter        24.470110"
      ]
     },
     "execution_count": 43,
     "metadata": {},
     "output_type": "execute_result"
    }
   ],
   "source": [
    "# Investigating vehicle types\n",
    "df['Type_of_vehicle'].unique()\n",
    "\n",
    "time_vehicle = df.groupby('Type_of_vehicle').agg({'time (minutes)':'mean'})\n",
    "\n",
    "time_vehicle.sort_values(by='time (minutes)', ascending=False, inplace=True)\n",
    "\n",
    "time_vehicle"
   ]
  },
  {
   "cell_type": "markdown",
   "id": "5749589d-5355-4691-a606-621b0efc9e53",
   "metadata": {},
   "source": [
    "### What is the correlation between traffic density and delivery time?"
   ]
  },
  {
   "cell_type": "code",
   "execution_count": 54,
   "id": "99d3df80-7784-46cb-9b22-cf3680b03f0f",
   "metadata": {},
   "outputs": [
    {
     "data": {
      "text/plain": [
       "F_onewayResult(statistic=2550.2956907866765, pvalue=0.0)"
      ]
     },
     "execution_count": 54,
     "metadata": {},
     "output_type": "execute_result"
    }
   ],
   "source": [
    "# Investigating traffic density column\n",
    "df[['Road_traffic_density']].head()\n",
    "\n",
    "# seems that they are categorical variables\n",
    "traffic_delivery = df.groupby('Road_traffic_density')[['time (minutes)']].mean()\n",
    "\n",
    "traffic_delivery.sort_values(by='time (minutes)', ascending=False, inplace=True)\n",
    "\n",
    "# it does seem to have strong correlation\n",
    "# df['Road_traffic_density'].corr(df['time (minutes)']) wont work since density is categorical variable\n",
    "df['Road_traffic_density_numeric'] = df['Road_traffic_density'].astype('category').cat.codes\n",
    "df['Road_traffic_density_numeric'].corr(df['time (minutes)'])\n",
    "\n",
    "# ANOVA to see whether traffic density results in significant differences in delivery time\n",
    "import scipy.stats as stats\n",
    "\n",
    "groups = [df[df['Road_traffic_density'] == level]['time (minutes)'] for level in df['Road_traffic_density'].unique()]\n",
    "stats.f_oneway(*groups)\n",
    "\n",
    "# Since p_value < 0.05, reject H0, traffic density does affect delivery time)"
   ]
  },
  {
   "cell_type": "markdown",
   "id": "fbe46d87-1d8b-490d-8afb-584fb70c1ae0",
   "metadata": {},
   "source": [
    "### What is the most common type of order in urban areas?"
   ]
  },
  {
   "cell_type": "code",
   "execution_count": 63,
   "id": "f85b2924-8012-4f22-8192-f8a4c9ed4c9a",
   "metadata": {},
   "outputs": [
    {
     "data": {
      "text/html": [
       "<div>\n",
       "<style scoped>\n",
       "    .dataframe tbody tr th:only-of-type {\n",
       "        vertical-align: middle;\n",
       "    }\n",
       "\n",
       "    .dataframe tbody tr th {\n",
       "        vertical-align: top;\n",
       "    }\n",
       "\n",
       "    .dataframe thead th {\n",
       "        text-align: right;\n",
       "    }\n",
       "</style>\n",
       "<table border=\"1\" class=\"dataframe\">\n",
       "  <thead>\n",
       "    <tr style=\"text-align: right;\">\n",
       "      <th></th>\n",
       "      <th>ID</th>\n",
       "    </tr>\n",
       "    <tr>\n",
       "      <th>Type_of_order</th>\n",
       "      <th></th>\n",
       "    </tr>\n",
       "  </thead>\n",
       "  <tbody>\n",
       "    <tr>\n",
       "      <th>Snack</th>\n",
       "      <td>2576</td>\n",
       "    </tr>\n",
       "    <tr>\n",
       "      <th>Drinks</th>\n",
       "      <td>2567</td>\n",
       "    </tr>\n",
       "    <tr>\n",
       "      <th>Buffet</th>\n",
       "      <td>2508</td>\n",
       "    </tr>\n",
       "    <tr>\n",
       "      <th>Meal</th>\n",
       "      <td>2485</td>\n",
       "    </tr>\n",
       "  </tbody>\n",
       "</table>\n",
       "</div>"
      ],
      "text/plain": [
       "                 ID\n",
       "Type_of_order      \n",
       "Snack          2576\n",
       "Drinks         2567\n",
       "Buffet         2508\n",
       "Meal           2485"
      ]
     },
     "execution_count": 63,
     "metadata": {},
     "output_type": "execute_result"
    }
   ],
   "source": [
    "# Before filtering based on the area, let's analyze the types of order\n",
    "df['Type_of_order'].unique()\n",
    "# We have 4 types of order -> ['Snack ', 'Drinks ', 'Buffet ', 'Meal ']\n",
    "\n",
    "# Let's filter by urban area\n",
    "common_urban_df = df[df['City'] == 'Urban ']\n",
    "\n",
    "common_urban = common_urban_df.groupby('Type_of_order').agg({'ID':'count'})\n",
    "\n",
    "common_urban.sort_values(by=\"ID\", ascending=False, inplace=True)\n",
    "\n",
    "# Response -> Snacks\n",
    "\n",
    "common_urban"
   ]
  },
  {
   "cell_type": "markdown",
   "id": "b7a4d4d7-4b7c-4d2d-b0fa-6691f10f68cb",
   "metadata": {},
   "source": [
    "### Find the delivery person with the highest average rating in metropolitan areas"
   ]
  },
  {
   "cell_type": "code",
   "execution_count": 71,
   "id": "56e5a52c-869b-4bc0-b3d1-06912e06bdea",
   "metadata": {},
   "outputs": [
    {
     "name": "stderr",
     "output_type": "stream",
     "text": [
      "/var/folders/7x/mwsg2nfd0gsf5h73ty0mnrb80000gn/T/ipykernel_42075/2691021446.py:5: SettingWithCopyWarning: \n",
      "A value is trying to be set on a copy of a slice from a DataFrame\n",
      "\n",
      "See the caveats in the documentation: https://pandas.pydata.org/pandas-docs/stable/user_guide/indexing.html#returning-a-view-versus-a-copy\n",
      "  metropolitan_df['Delivery_person_Ratings'].dropna(inplace=True)\n"
     ]
    }
   ],
   "source": [
    "# Filter dataframe based on metropolitan area\n",
    "metropolitan_df = df[df['City'] == 'Metropolitian ']\n",
    "\n",
    "# Making sure we drop rows that doesn't have ratings\n",
    "metropolitan_df['Delivery_person_Ratings'].dropna(inplace=True)\n",
    "\n",
    "#highest_rating = metropolitan_df.groupby('Delivery_person_ID').agg({'Delivery_person_Ratings':'mean'})\n",
    "\n",
    "#highest_rating.sort_values(by='Delivery_person_Ratings', ascending=False, inplace=True)\n",
    "\n",
    "\n",
    "#highest_rating"
   ]
  },
  {
   "cell_type": "markdown",
   "id": "af41ceac-edf6-4d15-8a3f-285982345dda",
   "metadata": {},
   "source": [
    "### How does multiple deliveries affect the average delivery time?"
   ]
  },
  {
   "cell_type": "code",
   "execution_count": null,
   "id": "f862694c-79df-45a1-b3c4-a23691ca62df",
   "metadata": {},
   "outputs": [],
   "source": []
  },
  {
   "cell_type": "markdown",
   "id": "51d4cf7b-261b-4fe2-9fd2-4d2e63ffca14",
   "metadata": {},
   "source": [
    "### Calculate the average delivery time per city and visualize it using a bar chart"
   ]
  },
  {
   "cell_type": "code",
   "execution_count": null,
   "id": "364eb99e-5219-46d3-ab2a-16d085198023",
   "metadata": {},
   "outputs": [],
   "source": []
  },
  {
   "cell_type": "markdown",
   "id": "330a1cbb-fda5-40dd-8c9c-d01009676542",
   "metadata": {},
   "source": [
    "### Which factor (weather, traffic, vehicle type) impacts delivery time the most?"
   ]
  },
  {
   "cell_type": "code",
   "execution_count": null,
   "id": "c287d824-df50-4219-bdad-65c54047511c",
   "metadata": {},
   "outputs": [],
   "source": []
  },
  {
   "cell_type": "markdown",
   "id": "787aa300-7e2f-4da5-a1b9-aa935e32eeb0",
   "metadata": {},
   "source": [
    "### Find the restaurant with the longest average delivery distance."
   ]
  },
  {
   "cell_type": "code",
   "execution_count": null,
   "id": "681fec17-78f6-4e9f-968a-d771c3af139c",
   "metadata": {},
   "outputs": [],
   "source": []
  },
  {
   "cell_type": "markdown",
   "id": "459af3cb-7424-44e4-b5c1-553fc5f022aa",
   "metadata": {},
   "source": [
    "### What is the standard deviation of delivery times across different cities?"
   ]
  },
  {
   "cell_type": "code",
   "execution_count": null,
   "id": "a9727084-88f4-4a10-a88c-1d2e9eace8c8",
   "metadata": {},
   "outputs": [],
   "source": []
  },
  {
   "cell_type": "markdown",
   "id": "be4abcc9-82c1-4abf-a42b-d609b854e4ba",
   "metadata": {},
   "source": [
    "### Calculate the rolling average per 7 days windows of the TOP 5 rated drivers"
   ]
  },
  {
   "cell_type": "code",
   "execution_count": null,
   "id": "28fdba92-2cc8-4b50-895d-80ad3d214787",
   "metadata": {},
   "outputs": [],
   "source": []
  },
  {
   "cell_type": "code",
   "execution_count": null,
   "id": "89bcb1ea-4a71-453f-a2d3-810bfbaf742d",
   "metadata": {},
   "outputs": [],
   "source": [
    "############ SQL ############\n",
    "\n",
    "query = \"SELECT * FROM Deliveries\"\n",
    "\n",
    "result = pd.read_sql(query, conn)\n",
    "\n",
    "print(result.head())\n",
    "\n",
    "conn.close()"
   ]
  },
  {
   "cell_type": "code",
   "execution_count": null,
   "id": "df4b514e-a051-403f-af10-30ef214f598e",
   "metadata": {},
   "outputs": [],
   "source": [
    "# Also do:\n",
    "# Convert entire columns to numeric, and troubleshoot if it can't be converted\n",
    "# Get rid of spaces in values of columns (I did this a few times)\n",
    "# code for basic plotting in seaborn and sns"
   ]
  }
 ],
 "metadata": {
  "kernelspec": {
   "display_name": "Python 3 (ipykernel)",
   "language": "python",
   "name": "python3"
  },
  "language_info": {
   "codemirror_mode": {
    "name": "ipython",
    "version": 3
   },
   "file_extension": ".py",
   "mimetype": "text/x-python",
   "name": "python",
   "nbconvert_exporter": "python",
   "pygments_lexer": "ipython3",
   "version": "3.9.12"
  }
 },
 "nbformat": 4,
 "nbformat_minor": 5
}
